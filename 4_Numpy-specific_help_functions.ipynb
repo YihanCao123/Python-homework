{
 "cells": [
  {
   "cell_type": "code",
   "execution_count": 1,
   "metadata": {},
   "outputs": [],
   "source": [
    "import numpy as np"
   ]
  },
  {
   "cell_type": "code",
   "execution_count": 2,
   "metadata": {},
   "outputs": [
    {
     "data": {
      "text/plain": "'1.17.3'"
     },
     "execution_count": 2,
     "metadata": {},
     "output_type": "execute_result"
    }
   ],
   "source": [
    "np.__version__"
   ]
  },
  {
   "cell_type": "markdown",
   "metadata": {},
   "source": [
    "Q1. Search for docstrings of the numpy functions on linear algebra."
   ]
  },
  {
   "cell_type": "code",
   "execution_count": 3,
   "metadata": {},
   "outputs": [
    {
     "name": "stdout",
     "output_type": "stream",
     "text": "Search results for 'linear algebra'\n-----------------------------------\nnumpy.matrix\n    .. note:: It is no longer recommended to use this class, even for linear\nnumpy.linalg.solve\n    Solve a linear matrix equation, or system of linear scalar equations.\nnumpy.poly\n    Find the coefficients of a polynomial with the given sequence of roots.\nnumpy.einsum\n    einsum(subscripts, *operands, out=None, dtype=None, order='K',\nnumpy.linalg.eig\n    Compute the eigenvalues and right eigenvectors of a square array.\nnumpy.linalg.cond\n    Compute the condition number of a matrix.\nnumpy.linalg.eigh\n    Return the eigenvalues and eigenvectors of a complex Hermitian\nnumpy.linalg.pinv\n    Compute the (Moore-Penrose) pseudo-inverse of a matrix.\nnumpy.linalg.LinAlgError\n    Generic Python-exception-derived object raised by linalg functions.\nnumpy.core._multiarray_umath.c_einsum\n    c_einsum(subscripts, *operands, out=None, dtype=None, order='K',"
    }
   ],
   "source": [
    "np.lookfor('linear algebra')"
   ]
  },
  {
   "cell_type": "markdown",
   "metadata": {},
   "source": [
    "Q2. Get help information for numpy dot function."
   ]
  },
  {
   "cell_type": "code",
   "execution_count": 8,
   "metadata": {},
   "outputs": [
    {
     "name": "stdout",
     "output_type": "stream",
     "text": "*** Found in numpy ***\n dot(*args, **kwargs)\n\ndot(a, b, out=None)\n\nDot product of two arrays. Specifically,\n\n- If both `a` and `b` are 1-D arrays, it is inner product of vectors\n  (without complex conjugation).\n\n- If both `a` and `b` are 2-D arrays, it is matrix multiplication,\n  but using :func:`matmul` or ``a @ b`` is preferred.\n\n- If either `a` or `b` is 0-D (scalar), it is equivalent to :func:`multiply`\n  and using ``numpy.multiply(a, b)`` or ``a * b`` is preferred.\n\n- If `a` is an N-D array and `b` is a 1-D array, it is a sum product over\n  the last axis of `a` and `b`.\n\n- If `a` is an N-D array and `b` is an M-D array (where ``M>=2``), it is a\n  sum product over the last axis of `a` and the second-to-last axis of `b`::\n\n    dot(a, b)[i,j,k,m] = sum(a[i,j,:] * b[k,:,m])\n\nParameters\n----------\na : array_like\n    First argument.\nb : array_like\n    Second argument.\nout : ndarray, optional\n    Output argument. This must have the exact kind that would be returned\n    if it was not used. In particular, it must have the right type, must be\n    C-contiguous, and its dtype must be the dtype that would be returned\n    for `dot(a,b)`. This is a performance feature. Therefore, if these\n    conditions are not met, an exception is raised, instead of attempting\n    to be flexible.\n\nReturns\n-------\noutput : ndarray\n    Returns the dot product of `a` and `b`.  If `a` and `b` are both\n    scalars or both 1-D arrays then a scalar is returned; otherwise\n    an array is returned.\n    If `out` is given, then it is returned.\n\nRaises\n------\nValueError\n    If the last dimension of `a` is not the same size as\n    the second-to-last dimension of `b`.\n\nSee Also\n--------\nvdot : Complex-conjugating dot product.\ntensordot : Sum products over arbitrary axes.\neinsum : Einstein summation convention.\nmatmul : '@' operator as method with out parameter.\n\nExamples\n--------\n>>> np.dot(3, 4)\n12\n\nNeither argument is complex-conjugated:\n\n>>> np.dot([2j, 3j], [2j, 3j])\n(-13+0j)\n\nFor 2-D arrays it is the matrix product:\n\n>>> a = [[1, 0], [0, 1]]\n>>> b = [[4, 1], [2, 2]]\n>>> np.dot(a, b)\narray([[4, 1],\n       [2, 2]])\n\n>>> a = np.arange(3*4*5*6).reshape((3,4,5,6))\n>>> b = np.arange(3*4*5*6)[::-1].reshape((5,4,6,3))\n>>> np.dot(a, b)[2,3,2,1,2,2]\n499128\n>>> sum(a[2,3,2,:] * b[1,2,:,2])\n499128\n----------------------------------------------------------------------------\n\n     *** Repeat reference found in numpy.core *** \n     *** Found in numpy.ma ***\n dot(a, b, strict=False, out=None)\n\nReturn the dot product of two arrays.\n\nThis function is the equivalent of `numpy.dot` that takes masked values\ninto account. Note that `strict` and `out` are in different position\nthan in the method version. In order to maintain compatibility with the\ncorresponding method, it is recommended that the optional arguments be\ntreated as keyword only.  At some point that may be mandatory.\n\n.. note::\n  Works only with 2-D arrays at the moment.\n\n\nParameters\n----------\na, b : masked_array_like\n    Inputs arrays.\nstrict : bool, optional\n    Whether masked data are propagated (True) or set to 0 (False) for\n    the computation. Default is False.  Propagating the mask means that\n    if a masked value appears in a row or column, the whole row or\n    column is considered masked.\nout : masked_array, optional\n    Output argument. This must have the exact kind that would be returned\n    if it was not used. In particular, it must have the right type, must be\n    C-contiguous, and its dtype must be the dtype that would be returned\n    for `dot(a,b)`. This is a performance feature. Therefore, if these\n    conditions are not met, an exception is raised, instead of attempting\n    to be flexible.\n\n    .. versionadded:: 1.10.2\n\nSee Also\n--------\nnumpy.dot : Equivalent function for ndarrays.\n\nExamples\n--------\n>>> a = np.ma.array([[1, 2, 3], [4, 5, 6]], mask=[[1, 0, 0], [0, 0, 0]])\n>>> b = np.ma.array([[1, 2], [3, 4], [5, 6]], mask=[[1, 0], [0, 0], [0, 0]])\n>>> np.ma.dot(a, b)\nmasked_array(\n  data=[[21, 26],\n        [45, 64]],\n  mask=[[False, False],\n        [False, False]],\n  fill_value=999999)\n>>> np.ma.dot(a, b, strict=True)\nmasked_array(\n  data=[[--, --],\n        [--, 64]],\n  mask=[[ True,  True],\n        [ True, False]],\n  fill_value=999999)\n----------------------------------------------------------------------------\n\n     *** Repeat reference found in numpy.matlib *** \n     *** Found in numpy.core._multiarray_umath ***\ndot(a, b, out=None)\n\nDot product of two arrays. Specifically,\n\n- If both `a` and `b` are 1-D arrays, it is inner product of vectors\n  (without complex conjugation).\n\n- If both `a` and `b` are 2-D arrays, it is matrix multiplication,\n  but using :func:`matmul` or ``a @ b`` is preferred.\n\n- If either `a` or `b` is 0-D (scalar), it is equivalent to :func:`multiply`\n  and using ``numpy.multiply(a, b)`` or ``a * b`` is preferred.\n\n- If `a` is an N-D array and `b` is a 1-D array, it is a sum product over\n  the last axis of `a` and `b`.\n\n- If `a` is an N-D array and `b` is an M-D array (where ``M>=2``), it is a\n  sum product over the last axis of `a` and the second-to-last axis of `b`::\n\n    dot(a, b)[i,j,k,m] = sum(a[i,j,:] * b[k,:,m])\n\nParameters\n----------\na : array_like\n    First argument.\nb : array_like\n    Second argument.\nout : ndarray, optional\n    Output argument. This must have the exact kind that would be returned\n    if it was not used. In particular, it must have the right type, must be\n    C-contiguous, and its dtype must be the dtype that would be returned\n    for `dot(a,b)`. This is a performance feature. Therefore, if these\n    conditions are not met, an exception is raised, instead of attempting\n    to be flexible.\n\nReturns\n-------\noutput : ndarray\n    Returns the dot product of `a` and `b`.  If `a` and `b` are both\n    scalars or both 1-D arrays then a scalar is returned; otherwise\n    an array is returned.\n    If `out` is given, then it is returned.\n\nRaises\n------\nValueError\n    If the last dimension of `a` is not the same size as\n    the second-to-last dimension of `b`.\n\nSee Also\n--------\nvdot : Complex-conjugating dot product.\ntensordot : Sum products over arbitrary axes.\neinsum : Einstein summation convention.\nmatmul : '@' operator as method with out parameter.\n\nExamples\n--------\n>>> np.dot(3, 4)\n12\n\nNeither argument is complex-conjugated:\n\n>>> np.dot([2j, 3j], [2j, 3j])\n(-13+0j)\n\nFor 2-D arrays it is the matrix product:\n\n>>> a = [[1, 0], [0, 1]]\n>>> b = [[4, 1], [2, 2]]\n>>> np.dot(a, b)\narray([[4, 1],\n       [2, 2]])\n\n>>> a = np.arange(3*4*5*6).reshape((3,4,5,6))\n>>> b = np.arange(3*4*5*6)[::-1].reshape((5,4,6,3))\n>>> np.dot(a, b)[2,3,2,1,2,2]\n499128\n>>> sum(a[2,3,2,:] * b[1,2,:,2])\n499128\n----------------------------------------------------------------------------\n\n     *** Repeat reference found in numpy.core.multiarray *** \n\n     *** Repeat reference found in numpy.core.umath *** \n\n     *** Repeat reference found in numpy.core.numeric *** \n\n     *** Repeat reference found in numpy.linalg.linalg *** \n\n     *** Repeat reference found in numpy.lib.function_base *** \n\n     *** Repeat reference found in numpy.lib.polynomial *** \n\n     *** Repeat reference found in numpy.ma.core *** \n\n     *** Repeat reference found in numpy.ma.extras *** \n\n     *** Repeat reference found in numpy.linalg.tests.test_regression *** \n\n     *** Repeat reference found in numpy.ma.tests.test_extras *** \n\n     *** Total of 15 references found. ***\n"
    }
   ],
   "source": [
    "np.info('dot')"
   ]
  },
  {
   "cell_type": "code",
   "execution_count": null,
   "metadata": {
    "collapsed": true
   },
   "outputs": [],
   "source": []
  }
 ],
 "metadata": {
  "kernelspec": {
   "display_name": "Python 3",
   "language": "python",
   "name": "python3"
  },
  "language_info": {
   "codemirror_mode": {
    "name": "ipython",
    "version": 2
   },
   "file_extension": ".py",
   "mimetype": "text/x-python",
   "name": "python",
   "nbconvert_exporter": "python",
   "pygments_lexer": "ipython2",
   "version": "3.7.4-final"
  }
 },
 "nbformat": 4,
 "nbformat_minor": 0
}