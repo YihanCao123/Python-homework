{
 "cells": [
  {
   "cell_type": "markdown",
   "metadata": {},
   "source": [
    "# Logic functions"
   ]
  },
  {
   "cell_type": "code",
   "execution_count": 1,
   "metadata": {},
   "outputs": [],
   "source": [
    "import numpy as np"
   ]
  },
  {
   "cell_type": "code",
   "execution_count": 2,
   "metadata": {},
   "outputs": [
    {
     "data": {
      "text/plain": "'1.17.3'"
     },
     "execution_count": 2,
     "metadata": {},
     "output_type": "execute_result"
    }
   ],
   "source": [
    "np.__version__"
   ]
  },
  {
   "cell_type": "markdown",
   "metadata": {},
   "source": [
    "## Truth value testing\n"
   ]
  },
  {
   "cell_type": "markdown",
   "metadata": {},
   "source": [
    "Q1. Let x be an arbitrary array. Return True if none of the elements of x is zero. Remind that 0 evaluates to False in python.\n"
   ]
  },
  {
   "cell_type": "code",
   "execution_count": 3,
   "metadata": {},
   "outputs": [
    {
     "name": "stdout",
     "output_type": "stream",
     "text": "True\nFalse\n"
    }
   ],
   "source": [
    "x = np.array([1,2,3])\n",
    "print(np.all(x))\n",
    "\n",
    "x = np.array([1,0,3])\n",
    "print(np.all(x))"
   ]
  },
  {
   "cell_type": "markdown",
   "metadata": {},
   "source": [
    "Q2. Let x be an arbitrary array. Return True if any of the elements of x is non-zero."
   ]
  },
  {
   "cell_type": "code",
   "execution_count": 4,
   "metadata": {},
   "outputs": [
    {
     "name": "stdout",
     "output_type": "stream",
     "text": "True\nFalse\n"
    }
   ],
   "source": [
    "x = np.array([1,0,0])\n",
    "print(np.any(x))\n",
    "\n",
    "x = np.array([0,0,0])\n",
    "print(np.any(x))"
   ]
  },
  {
   "cell_type": "markdown",
   "metadata": {},
   "source": [
    "## Array contents\n"
   ]
  },
  {
   "cell_type": "markdown",
   "metadata": {},
   "source": [
    "Q3. Predict the result of the following code."
   ]
  },
  {
   "cell_type": "code",
   "execution_count": 5,
   "metadata": {},
   "outputs": [
    {
     "name": "stdout",
     "output_type": "stream",
     "text": "[ True  True  True  True]\n"
    }
   ],
   "source": [
    "x = np.array([1, 0, np.nan, np.inf])\n",
    "print (np.isfinite(x) == [True,True,False,False])"
   ]
  },
  {
   "cell_type": "markdown",
   "metadata": {},
   "source": [
    "Q4. Predict the result of the following code."
   ]
  },
  {
   "cell_type": "code",
   "execution_count": 6,
   "metadata": {},
   "outputs": [
    {
     "name": "stdout",
     "output_type": "stream",
     "text": "[ True  True  True  True]\n"
    }
   ],
   "source": [
    "x = np.array([1, 0, np.nan, np.inf])\n",
    "print(np.isinf(x) == [False,False,False,True])"
   ]
  },
  {
   "cell_type": "markdown",
   "metadata": {},
   "source": [
    "Q5. Predict the result of the following code."
   ]
  },
  {
   "cell_type": "code",
   "execution_count": 7,
   "metadata": {},
   "outputs": [
    {
     "name": "stdout",
     "output_type": "stream",
     "text": "[ True  True  True  True]\n"
    }
   ],
   "source": [
    "x = np.array([1, 0, np.nan, np.inf])\n",
    "print(np.isnan(x) == [False,False,True,False])"
   ]
  },
  {
   "cell_type": "markdown",
   "metadata": {},
   "source": [
    "## Array type testing"
   ]
  },
  {
   "cell_type": "markdown",
   "metadata": {},
   "source": [
    "Q6. Predict the result of the following code."
   ]
  },
  {
   "cell_type": "code",
   "execution_count": 8,
   "metadata": {},
   "outputs": [
    {
     "name": "stdout",
     "output_type": "stream",
     "text": "[ True  True  True  True  True  True]\n"
    }
   ],
   "source": [
    "x = np.array([1+1j, 1+0j, 4.5, 3, 2, 2j])\n",
    "print (np.iscomplex(x) == [True,False,False,False,False,True])"
   ]
  },
  {
   "cell_type": "markdown",
   "metadata": {},
   "source": [
    "Q7. Predict the result of the following code."
   ]
  },
  {
   "cell_type": "code",
   "execution_count": 9,
   "metadata": {},
   "outputs": [
    {
     "name": "stdout",
     "output_type": "stream",
     "text": "[ True  True  True  True  True  True]\n"
    }
   ],
   "source": [
    "x = np.array([1+1j, 1+0j, 4.5, 3, 2, 2j])\n",
    "print (np.isreal(x) == [False,True,True,True,True,False])"
   ]
  },
  {
   "cell_type": "markdown",
   "metadata": {},
   "source": [
    "Q8. Predict the result of the following code."
   ]
  },
  {
   "cell_type": "code",
   "execution_count": 10,
   "metadata": {},
   "outputs": [
    {
     "name": "stdout",
     "output_type": "stream",
     "text": "True\nTrue\nTrue\n"
    }
   ],
   "source": [
    "print (np.isscalar(3) == True)\n",
    "print (np.isscalar([3]) == False)\n",
    "print (np.isscalar(True) == True)"
   ]
  },
  {
   "cell_type": "markdown",
   "metadata": {},
   "source": [
    "## Logical operations"
   ]
  },
  {
   "cell_type": "markdown",
   "metadata": {},
   "source": [
    "Q9. Predict the result of the following code."
   ]
  },
  {
   "cell_type": "code",
   "execution_count": 11,
   "metadata": {},
   "outputs": [
    {
     "name": "stdout",
     "output_type": "stream",
     "text": "[ True  True]\n[ True  True  True]\n[ True  True  True]\n[ True  True  True  True]\n"
    }
   ],
   "source": [
    "print (np.logical_and([True, False], [False, False]) == [False,False])\n",
    "print (np.logical_or([True, False, True], [True, False, False]) == [True,False,True])\n",
    "print (np.logical_xor([True, False, True], [True, False, False]) == [False,False,True])\n",
    "print (np.logical_not([True, False, 0, 1]) == [False,True,True,False])\n"
   ]
  },
  {
   "cell_type": "markdown",
   "metadata": {},
   "source": [
    "## Comparison"
   ]
  },
  {
   "cell_type": "markdown",
   "metadata": {},
   "source": [
    "Q10. Predict the result of the following code."
   ]
  },
  {
   "cell_type": "code",
   "execution_count": 12,
   "metadata": {},
   "outputs": [
    {
     "name": "stdout",
     "output_type": "stream",
     "text": "True\nTrue\n"
    }
   ],
   "source": [
    "print (np.allclose([3], [2.999999]) == True)\n",
    "print (np.array_equal([3], [2.999999]) == False)"
   ]
  },
  {
   "cell_type": "markdown",
   "metadata": {},
   "source": [
    "Q11. Write numpy comparison functions such that they return the results as you see."
   ]
  },
  {
   "cell_type": "code",
   "execution_count": 13,
   "metadata": {},
   "outputs": [
    {
     "name": "stdout",
     "output_type": "stream",
     "text": "[ True False]\n[ True  True]\n[False False]\n[False  True]\n"
    }
   ],
   "source": [
    "x = np.array([4, 5])\n",
    "y = np.array([2, 5])\n",
    "print(np.greater(x,y))\n",
    "print(np.greater_equal(x,y))\n",
    "print(np.less(x,y))\n",
    "print(np.less_equal(x,y))"
   ]
  },
  {
   "cell_type": "markdown",
   "metadata": {},
   "source": [
    "Q12. Predict the result of the following code."
   ]
  },
  {
   "cell_type": "code",
   "execution_count": 14,
   "metadata": {},
   "outputs": [
    {
     "name": "stdout",
     "output_type": "stream",
     "text": "[ True  True]\n[ True  True]\n"
    }
   ],
   "source": [
    "print (np.equal([1, 2], [1, 2.000001]) == [True,False])\n",
    "print (np.isclose([1, 2], [1, 2.000001]) == [True,True])"
   ]
  }
 ],
 "metadata": {
  "kernelspec": {
   "display_name": "Python 3.7.4 64-bit",
   "language": "python",
   "name": "python37464bit1e709d27370248668c5cb1cb9452c666"
  },
  "language_info": {
   "codemirror_mode": {
    "name": "ipython",
    "version": 2
   },
   "file_extension": ".py",
   "mimetype": "text/x-python",
   "name": "python",
   "nbconvert_exporter": "python",
   "pygments_lexer": "ipython2",
   "version": "3.7.4-final"
  }
 },
 "nbformat": 4,
 "nbformat_minor": 2
}