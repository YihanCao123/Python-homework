{
 "cells": [
  {
   "cell_type": "markdown",
   "metadata": {},
   "source": [
    "# Occupation"
   ]
  },
  {
   "cell_type": "markdown",
   "metadata": {},
   "source": [
    "### Introduction:\n",
    "\n",
    "Special thanks to: https://github.com/justmarkham for sharing the dataset and materials.\n",
    "\n",
    "### Step 1. Import the necessary libraries"
   ]
  },
  {
   "cell_type": "code",
   "execution_count": 2,
   "metadata": {},
   "outputs": [],
   "source": [
    "import numpy as np\n",
    "import pandas as pd"
   ]
  },
  {
   "cell_type": "markdown",
   "metadata": {},
   "source": [
    "### Step 2. Import the dataset from this [address](https://raw.githubusercontent.com/justmarkham/DAT8/master/data/u.user). "
   ]
  },
  {
   "cell_type": "markdown",
   "metadata": {},
   "source": [
    "### Step 3. Assign it to a variable called users."
   ]
  },
  {
   "cell_type": "code",
   "execution_count": 4,
   "metadata": {},
   "outputs": [
    {
     "data": {
      "text/html": "<div>\n<style scoped>\n    .dataframe tbody tr th:only-of-type {\n        vertical-align: middle;\n    }\n\n    .dataframe tbody tr th {\n        vertical-align: top;\n    }\n\n    .dataframe thead th {\n        text-align: right;\n    }\n</style>\n<table border=\"1\" class=\"dataframe\">\n  <thead>\n    <tr style=\"text-align: right;\">\n      <th></th>\n      <th>user_id</th>\n      <th>age</th>\n      <th>gender</th>\n      <th>occupation</th>\n      <th>zip_code</th>\n    </tr>\n  </thead>\n  <tbody>\n    <tr>\n      <td>0</td>\n      <td>1</td>\n      <td>24</td>\n      <td>M</td>\n      <td>technician</td>\n      <td>85711</td>\n    </tr>\n    <tr>\n      <td>1</td>\n      <td>2</td>\n      <td>53</td>\n      <td>F</td>\n      <td>other</td>\n      <td>94043</td>\n    </tr>\n    <tr>\n      <td>2</td>\n      <td>3</td>\n      <td>23</td>\n      <td>M</td>\n      <td>writer</td>\n      <td>32067</td>\n    </tr>\n    <tr>\n      <td>3</td>\n      <td>4</td>\n      <td>24</td>\n      <td>M</td>\n      <td>technician</td>\n      <td>43537</td>\n    </tr>\n    <tr>\n      <td>4</td>\n      <td>5</td>\n      <td>33</td>\n      <td>F</td>\n      <td>other</td>\n      <td>15213</td>\n    </tr>\n    <tr>\n      <td>...</td>\n      <td>...</td>\n      <td>...</td>\n      <td>...</td>\n      <td>...</td>\n      <td>...</td>\n    </tr>\n    <tr>\n      <td>938</td>\n      <td>939</td>\n      <td>26</td>\n      <td>F</td>\n      <td>student</td>\n      <td>33319</td>\n    </tr>\n    <tr>\n      <td>939</td>\n      <td>940</td>\n      <td>32</td>\n      <td>M</td>\n      <td>administrator</td>\n      <td>02215</td>\n    </tr>\n    <tr>\n      <td>940</td>\n      <td>941</td>\n      <td>20</td>\n      <td>M</td>\n      <td>student</td>\n      <td>97229</td>\n    </tr>\n    <tr>\n      <td>941</td>\n      <td>942</td>\n      <td>48</td>\n      <td>F</td>\n      <td>librarian</td>\n      <td>78209</td>\n    </tr>\n    <tr>\n      <td>942</td>\n      <td>943</td>\n      <td>22</td>\n      <td>M</td>\n      <td>student</td>\n      <td>77841</td>\n    </tr>\n  </tbody>\n</table>\n<p>943 rows × 5 columns</p>\n</div>",
      "text/plain": "     user_id  age gender     occupation zip_code\n0          1   24      M     technician    85711\n1          2   53      F          other    94043\n2          3   23      M         writer    32067\n3          4   24      M     technician    43537\n4          5   33      F          other    15213\n..       ...  ...    ...            ...      ...\n938      939   26      F        student    33319\n939      940   32      M  administrator    02215\n940      941   20      M        student    97229\n941      942   48      F      librarian    78209\n942      943   22      M        student    77841\n\n[943 rows x 5 columns]"
     },
     "execution_count": 4,
     "metadata": {},
     "output_type": "execute_result"
    }
   ],
   "source": [
    "users = pd.read_csv(\"C:/Users/Administrator/Desktop/yihan/python-learning/pandas_exercises_with_data/data/u.user\",sep='|')\n",
    "users"
   ]
  },
  {
   "cell_type": "markdown",
   "metadata": {},
   "source": [
    "### Step 4. Discover what is the mean age per occupation"
   ]
  },
  {
   "cell_type": "code",
   "execution_count": 6,
   "metadata": {},
   "outputs": [
    {
     "data": {
      "text/plain": "occupation\nadministrator    38.746835\nartist           31.392857\ndoctor           43.571429\neducator         42.010526\nengineer         36.388060\nentertainment    29.222222\nexecutive        38.718750\nhealthcare       41.562500\nhomemaker        32.571429\nlawyer           36.750000\nlibrarian        40.000000\nmarketing        37.615385\nnone             26.555556\nother            34.523810\nprogrammer       33.121212\nretired          63.071429\nsalesman         35.666667\nscientist        35.548387\nstudent          22.081633\ntechnician       33.148148\nwriter           36.311111\nName: age, dtype: float64"
     },
     "execution_count": 6,
     "metadata": {},
     "output_type": "execute_result"
    }
   ],
   "source": [
    "users.groupby('occupation').age.mean()"
   ]
  },
  {
   "cell_type": "markdown",
   "metadata": {},
   "source": [
    "### Step 5. Discover the Male ratio per occupation and sort it from the most to the least"
   ]
  },
  {
   "cell_type": "code",
   "execution_count": 54,
   "metadata": {},
   "outputs": [
    {
     "data": {
      "text/html": "<div>\n<style scoped>\n    .dataframe tbody tr th:only-of-type {\n        vertical-align: middle;\n    }\n\n    .dataframe tbody tr th {\n        vertical-align: top;\n    }\n\n    .dataframe thead th {\n        text-align: right;\n    }\n</style>\n<table border=\"1\" class=\"dataframe\">\n  <thead>\n    <tr style=\"text-align: right;\">\n      <th></th>\n      <th>name</th>\n      <th>gen_ratio</th>\n    </tr>\n  </thead>\n  <tbody>\n    <tr>\n      <td>2</td>\n      <td>doctor</td>\n      <td>1.000000</td>\n    </tr>\n    <tr>\n      <td>4</td>\n      <td>engineer</td>\n      <td>0.970149</td>\n    </tr>\n    <tr>\n      <td>19</td>\n      <td>technician</td>\n      <td>0.962963</td>\n    </tr>\n    <tr>\n      <td>15</td>\n      <td>retired</td>\n      <td>0.928571</td>\n    </tr>\n    <tr>\n      <td>14</td>\n      <td>programmer</td>\n      <td>0.909091</td>\n    </tr>\n    <tr>\n      <td>6</td>\n      <td>executive</td>\n      <td>0.906250</td>\n    </tr>\n    <tr>\n      <td>17</td>\n      <td>scientist</td>\n      <td>0.903226</td>\n    </tr>\n    <tr>\n      <td>5</td>\n      <td>entertainment</td>\n      <td>0.888889</td>\n    </tr>\n    <tr>\n      <td>9</td>\n      <td>lawyer</td>\n      <td>0.833333</td>\n    </tr>\n    <tr>\n      <td>16</td>\n      <td>salesman</td>\n      <td>0.750000</td>\n    </tr>\n    <tr>\n      <td>3</td>\n      <td>educator</td>\n      <td>0.726316</td>\n    </tr>\n    <tr>\n      <td>18</td>\n      <td>student</td>\n      <td>0.693878</td>\n    </tr>\n    <tr>\n      <td>13</td>\n      <td>other</td>\n      <td>0.657143</td>\n    </tr>\n    <tr>\n      <td>11</td>\n      <td>marketing</td>\n      <td>0.615385</td>\n    </tr>\n    <tr>\n      <td>20</td>\n      <td>writer</td>\n      <td>0.577778</td>\n    </tr>\n    <tr>\n      <td>12</td>\n      <td>none</td>\n      <td>0.555556</td>\n    </tr>\n    <tr>\n      <td>0</td>\n      <td>administrator</td>\n      <td>0.544304</td>\n    </tr>\n    <tr>\n      <td>1</td>\n      <td>artist</td>\n      <td>0.535714</td>\n    </tr>\n    <tr>\n      <td>10</td>\n      <td>librarian</td>\n      <td>0.431373</td>\n    </tr>\n    <tr>\n      <td>7</td>\n      <td>healthcare</td>\n      <td>0.312500</td>\n    </tr>\n    <tr>\n      <td>8</td>\n      <td>homemaker</td>\n      <td>0.142857</td>\n    </tr>\n  </tbody>\n</table>\n</div>",
      "text/plain": "             name  gen_ratio\n2          doctor   1.000000\n4        engineer   0.970149\n19     technician   0.962963\n15        retired   0.928571\n14     programmer   0.909091\n6       executive   0.906250\n17      scientist   0.903226\n5   entertainment   0.888889\n9          lawyer   0.833333\n16       salesman   0.750000\n3        educator   0.726316\n18        student   0.693878\n13          other   0.657143\n11      marketing   0.615385\n20         writer   0.577778\n12           none   0.555556\n0   administrator   0.544304\n1          artist   0.535714\n10      librarian   0.431373\n7      healthcare   0.312500\n8       homemaker   0.142857"
     },
     "execution_count": 54,
     "metadata": {},
     "output_type": "execute_result"
    }
   ],
   "source": [
    "grouped = list(users.groupby('occupation').gender)\n",
    "name =[]\n",
    "gen_ratio = []\n",
    "for item in grouped:\n",
    "    name.append(item[0])\n",
    "    gender = item[1]\n",
    "    num_male = len(gender[gender == 'M'])\n",
    "    ratio = num_male/len(gender)\n",
    "    gen_ratio.append(ratio)\n",
    "\n",
    "grouped_data = {'name':name,\n",
    "                'gen_ratio':gen_ratio}\n",
    "grouped_data = pd.DataFrame(grouped_data)\n",
    "grouped_data.sort_values(by = 'gen_ratio',ascending=False)"
   ]
  },
  {
   "cell_type": "markdown",
   "metadata": {},
   "source": [
    "### Step 6. For each occupation, calculate the minimum and maximum ages"
   ]
  },
  {
   "cell_type": "code",
   "execution_count": 58,
   "metadata": {},
   "outputs": [
    {
     "name": "stdout",
     "output_type": "stream",
     "text": "occupation\nadministrator    70\nartist           48\ndoctor           64\neducator         63\nengineer         70\nentertainment    50\nexecutive        69\nhealthcare       62\nhomemaker        50\nlawyer           53\nlibrarian        69\nmarketing        55\nnone             55\nother            64\nprogrammer       63\nretired          73\nsalesman         66\nscientist        55\nstudent          42\ntechnician       55\nwriter           60\nName: age, dtype: int64\noccupation\nadministrator    21\nartist           19\ndoctor           28\neducator         23\nengineer         22\nentertainment    15\nexecutive        22\nhealthcare       22\nhomemaker        20\nlawyer           21\nlibrarian        23\nmarketing        24\nnone             11\nother            13\nprogrammer       20\nretired          51\nsalesman         18\nscientist        23\nstudent           7\ntechnician       21\nwriter           18\nName: age, dtype: int64\n"
    }
   ],
   "source": [
    "max_age = users.groupby('occupation').age.max()\n",
    "min_age = users.groupby('occupation').age.min()\n",
    "print(max_age)\n",
    "print(min_age)"
   ]
  },
  {
   "cell_type": "markdown",
   "metadata": {},
   "source": [
    "### Step 7. For each combination of occupation and gender, calculate the mean age"
   ]
  },
  {
   "cell_type": "code",
   "execution_count": 59,
   "metadata": {},
   "outputs": [
    {
     "data": {
      "text/plain": "occupation     gender\nadministrator  F         40.638889\n               M         37.162791\nartist         F         30.307692\n               M         32.333333\ndoctor         M         43.571429\neducator       F         39.115385\n               M         43.101449\nengineer       F         29.500000\n               M         36.600000\nentertainment  F         31.000000\n               M         29.000000\nexecutive      F         44.000000\n               M         38.172414\nhealthcare     F         39.818182\n               M         45.400000\nhomemaker      F         34.166667\n               M         23.000000\nlawyer         F         39.500000\n               M         36.200000\nlibrarian      F         40.000000\n               M         40.000000\nmarketing      F         37.200000\n               M         37.875000\nnone           F         36.500000\n               M         18.600000\nother          F         35.472222\n               M         34.028986\nprogrammer     F         32.166667\n               M         33.216667\nretired        F         70.000000\n               M         62.538462\nsalesman       F         27.000000\n               M         38.555556\nscientist      F         28.333333\n               M         36.321429\nstudent        F         20.750000\n               M         22.669118\ntechnician     F         38.000000\n               M         32.961538\nwriter         F         37.631579\n               M         35.346154\nName: age, dtype: float64"
     },
     "execution_count": 59,
     "metadata": {},
     "output_type": "execute_result"
    }
   ],
   "source": [
    "users.groupby(['occupation','gender']).age.mean()"
   ]
  },
  {
   "cell_type": "markdown",
   "metadata": {},
   "source": [
    "### Step 8.  For each occupation present the percentage of women and men"
   ]
  },
  {
   "cell_type": "code",
   "execution_count": 61,
   "metadata": {},
   "outputs": [
    {
     "data": {
      "text/html": "<div>\n<style scoped>\n    .dataframe tbody tr th:only-of-type {\n        vertical-align: middle;\n    }\n\n    .dataframe tbody tr th {\n        vertical-align: top;\n    }\n\n    .dataframe thead th {\n        text-align: right;\n    }\n</style>\n<table border=\"1\" class=\"dataframe\">\n  <thead>\n    <tr style=\"text-align: right;\">\n      <th></th>\n      <th>name</th>\n      <th>gen_ratio_m</th>\n      <th>gen_ratio_f</th>\n    </tr>\n  </thead>\n  <tbody>\n    <tr>\n      <td>0</td>\n      <td>administrator</td>\n      <td>0.544304</td>\n      <td>0.455696</td>\n    </tr>\n    <tr>\n      <td>1</td>\n      <td>artist</td>\n      <td>0.535714</td>\n      <td>0.464286</td>\n    </tr>\n    <tr>\n      <td>2</td>\n      <td>doctor</td>\n      <td>1.000000</td>\n      <td>0.000000</td>\n    </tr>\n    <tr>\n      <td>3</td>\n      <td>educator</td>\n      <td>0.726316</td>\n      <td>0.273684</td>\n    </tr>\n    <tr>\n      <td>4</td>\n      <td>engineer</td>\n      <td>0.970149</td>\n      <td>0.029851</td>\n    </tr>\n    <tr>\n      <td>5</td>\n      <td>entertainment</td>\n      <td>0.888889</td>\n      <td>0.111111</td>\n    </tr>\n    <tr>\n      <td>6</td>\n      <td>executive</td>\n      <td>0.906250</td>\n      <td>0.093750</td>\n    </tr>\n    <tr>\n      <td>7</td>\n      <td>healthcare</td>\n      <td>0.312500</td>\n      <td>0.687500</td>\n    </tr>\n    <tr>\n      <td>8</td>\n      <td>homemaker</td>\n      <td>0.142857</td>\n      <td>0.857143</td>\n    </tr>\n    <tr>\n      <td>9</td>\n      <td>lawyer</td>\n      <td>0.833333</td>\n      <td>0.166667</td>\n    </tr>\n    <tr>\n      <td>10</td>\n      <td>librarian</td>\n      <td>0.431373</td>\n      <td>0.568627</td>\n    </tr>\n    <tr>\n      <td>11</td>\n      <td>marketing</td>\n      <td>0.615385</td>\n      <td>0.384615</td>\n    </tr>\n    <tr>\n      <td>12</td>\n      <td>none</td>\n      <td>0.555556</td>\n      <td>0.444444</td>\n    </tr>\n    <tr>\n      <td>13</td>\n      <td>other</td>\n      <td>0.657143</td>\n      <td>0.342857</td>\n    </tr>\n    <tr>\n      <td>14</td>\n      <td>programmer</td>\n      <td>0.909091</td>\n      <td>0.090909</td>\n    </tr>\n    <tr>\n      <td>15</td>\n      <td>retired</td>\n      <td>0.928571</td>\n      <td>0.071429</td>\n    </tr>\n    <tr>\n      <td>16</td>\n      <td>salesman</td>\n      <td>0.750000</td>\n      <td>0.250000</td>\n    </tr>\n    <tr>\n      <td>17</td>\n      <td>scientist</td>\n      <td>0.903226</td>\n      <td>0.096774</td>\n    </tr>\n    <tr>\n      <td>18</td>\n      <td>student</td>\n      <td>0.693878</td>\n      <td>0.306122</td>\n    </tr>\n    <tr>\n      <td>19</td>\n      <td>technician</td>\n      <td>0.962963</td>\n      <td>0.037037</td>\n    </tr>\n    <tr>\n      <td>20</td>\n      <td>writer</td>\n      <td>0.577778</td>\n      <td>0.422222</td>\n    </tr>\n  </tbody>\n</table>\n</div>",
      "text/plain": "             name  gen_ratio_m  gen_ratio_f\n0   administrator     0.544304     0.455696\n1          artist     0.535714     0.464286\n2          doctor     1.000000     0.000000\n3        educator     0.726316     0.273684\n4        engineer     0.970149     0.029851\n5   entertainment     0.888889     0.111111\n6       executive     0.906250     0.093750\n7      healthcare     0.312500     0.687500\n8       homemaker     0.142857     0.857143\n9          lawyer     0.833333     0.166667\n10      librarian     0.431373     0.568627\n11      marketing     0.615385     0.384615\n12           none     0.555556     0.444444\n13          other     0.657143     0.342857\n14     programmer     0.909091     0.090909\n15        retired     0.928571     0.071429\n16       salesman     0.750000     0.250000\n17      scientist     0.903226     0.096774\n18        student     0.693878     0.306122\n19     technician     0.962963     0.037037\n20         writer     0.577778     0.422222"
     },
     "execution_count": 61,
     "metadata": {},
     "output_type": "execute_result"
    }
   ],
   "source": [
    "grouped = list(users.groupby('occupation').gender)\n",
    "name =[]\n",
    "gen_ratio_m = []\n",
    "gen_ratio_f = []\n",
    "for item in grouped:\n",
    "    name.append(item[0])\n",
    "    gender = item[1]\n",
    "    num_male = len(gender[gender == 'M'])\n",
    "    ratio = num_male/len(gender)\n",
    "    gen_ratio_m.append(ratio)\n",
    "    gen_ratio_f.append(1-ratio)\n",
    "\n",
    "grouped_data = {'name':name,\n",
    "                'gen_ratio_m':gen_ratio_m,\n",
    "                'gen_ratio_f':gen_ratio_f}\n",
    "grouped_data = pd.DataFrame(grouped_data)\n",
    "grouped_data"
   ]
  }
 ],
 "metadata": {
  "kernelspec": {
   "display_name": "Python 3.7.4 64-bit",
   "language": "python",
   "name": "python37464bit1e709d27370248668c5cb1cb9452c666"
  },
  "language_info": {
   "codemirror_mode": {
    "name": "ipython",
    "version": 2
   },
   "file_extension": ".py",
   "mimetype": "text/x-python",
   "name": "python",
   "nbconvert_exporter": "python",
   "pygments_lexer": "ipython2",
   "version": "3.7.4-final"
  }
 },
 "nbformat": 4,
 "nbformat_minor": 0
}